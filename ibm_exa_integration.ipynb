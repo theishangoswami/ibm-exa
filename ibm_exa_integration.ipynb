{
 "cells": [
  {
   "cell_type": "markdown",
   "id": "781620fb",
   "metadata": {},
   "source": [
    "# IBM WatsonX AI & Exa Web Search Integration Notebook\n",
    "\n",
    "This notebook integrates IBM WatsonX AI with Exa's web search. It accepts a question, decides if a web search is needed, executes the search, and then returns an answer with sources.\n",
    "\n",
    "Make sure your `.env` file has the following variables:\n",
    "\n",
    "- IBM_WATSONX_API_KEY\n",
    "- IBM_WATSONX_URL\n",
    "- IBM_WATSONX_PROJECT_ID\n",
    "- EXA_API_KEY"
   ]
  },
  {
   "cell_type": "code",
   "execution_count": null,
   "id": "4aaa073b",
   "metadata": {},
   "outputs": [],
   "source": [
    "# Install dependencies if not already installed\n",
    "%pip install python-dotenv ibm-watsonx-ai exa-py\n",
    "\n",
    "import os\n",
    "import json\n",
    "import logging\n",
    "from typing import List, Dict, Any, Optional\n",
    "from dotenv import load_dotenv\n",
    "from ibm_watsonx_ai import APIClient, Credentials\n",
    "from ibm_watsonx_ai.foundation_models import ModelInference"
   ]
  },
  {
   "cell_type": "markdown",
   "id": "641d70ac",
   "metadata": {},
   "source": [
    "## 1. IBM WatsonX AI Client Setup"
   ]
  },
  {
   "cell_type": "code",
   "execution_count": 9,
   "id": "25048a53",
   "metadata": {},
   "outputs": [],
   "source": [
    "class WatsonXClient:\n",
    "    \"\"\"Wrapper for IBM WatsonX AI client with project ID handling.\"\"\"\n",
    "\n",
    "    def __init__(self):\n",
    "        # Load environment variables\n",
    "        load_dotenv()\n",
    "\n",
    "        self.api_key = os.getenv('IBM_WATSONX_API_KEY')\n",
    "        self.url = os.getenv('IBM_WATSONX_URL')\n",
    "        self.project_id = os.getenv('IBM_WATSONX_PROJECT_ID')\n",
    "\n",
    "        if not all([self.api_key, self.url, self.project_id]):\n",
    "            raise ValueError(\n",
    "                \"Missing required environment variables. \"\n",
    "                \"Please ensure IBM_WATSONX_API_KEY, IBM_WATSONX_URL, and IBM_WATSONX_PROJECT_ID \"\n",
    "                \"are set in .env file\"\n",
    "            )\n",
    "\n",
    "        # Create credentials object\n",
    "        self.credentials = Credentials(\n",
    "            url=self.url,\n",
    "            api_key=self.api_key\n",
    "        )\n",
    "\n",
    "        # Create API client\n",
    "        self.client = APIClient(credentials=self.credentials, project_id=self.project_id)\n",
    "\n",
    "def get_client() -> WatsonXClient:\n",
    "    return WatsonXClient()\n"
   ]
  },
  {
   "cell_type": "markdown",
   "id": "bf892c30",
   "metadata": {},
   "source": [
    "## 2. Exa Web Search Client"
   ]
  },
  {
   "cell_type": "code",
   "execution_count": 10,
   "id": "cea920c6",
   "metadata": {},
   "outputs": [],
   "source": [
    "from exa_py import Exa  # Make sure exa-py is installed\n",
    "\n",
    "logging.basicConfig(level=logging.INFO)\n",
    "logger = logging.getLogger(__name__)\n",
    "\n",
    "class ExaSearchClient:\n",
    "    \"\"\"Client for performing web searches using Exa.\"\"\"\n",
    "\n",
    "    def __init__(self, api_key: str):\n",
    "        self.client = Exa(api_key=api_key)\n",
    "\n",
    "    def search(self, query: str, num_results: int = 3) -> List[Dict[str, Any]]:\n",
    "        try:\n",
    "            logger.info(f\"Searching Exa for: {query}\")\n",
    "            response = self.client.search_and_contents(\n",
    "                query,\n",
    "                type=\"auto\",\n",
    "                num_results=5,\n",
    "                text=True,\n",
    "            )\n",
    "            \n",
    "            logger.debug(f\"Raw Exa response: {response}\")\n",
    "            \n",
    "            formatted_results = []\n",
    "            results = []\n",
    "            if isinstance(response, dict):\n",
    "                results = response.get('data', {}).get('results', [])\n",
    "            else:\n",
    "                # If response is an object, try to access results directly\n",
    "                results = getattr(response, 'results', [])\n",
    "\n",
    "            for result in results:\n",
    "                if isinstance(result, dict):\n",
    "                    text = result.get('text', '')\n",
    "                    title = result.get('title', 'No title')\n",
    "                    url = result.get('url', '')\n",
    "                    score = result.get('score', 0.0)\n",
    "                    published_date = result.get('publishedDate', '')\n",
    "                else:\n",
    "                    text = getattr(result, 'text', '')\n",
    "                    title = getattr(result, 'title', 'No title')\n",
    "                    url = getattr(result, 'url', '')\n",
    "                    score = getattr(result, 'score', 0.0)\n",
    "                    published_date = getattr(result, 'publishedDate', '')\n",
    "                \n",
    "                if text:\n",
    "                    formatted_results.append({\n",
    "                        \"title\": title,\n",
    "                        \"text\": text[:500] + \"...\" if len(text) > 500 else text,\n",
    "                        \"url\": url,\n",
    "                        \"score\": score,\n",
    "                        \"published_date\": published_date\n",
    "                    })\n",
    "\n",
    "            logger.info(f\"\\nFound {len(formatted_results)} results using Exa\\n\")\n",
    "            if not formatted_results:\n",
    "                logger.warning(\"No results found in the response\")\n",
    "\n",
    "            return formatted_results\n",
    "        except Exception as e:\n",
    "            logger.error(f\"Error searching Exa: {str(e)}\", exc_info=True)\n",
    "            return []\n"
   ]
  },
  {
   "cell_type": "markdown",
   "id": "6643bee3",
   "metadata": {},
   "source": [
    "## 3. Tools for WatsonX AI Tool Calling"
   ]
  },
  {
   "cell_type": "code",
   "execution_count": 11,
   "id": "6783cc86",
   "metadata": {},
   "outputs": [],
   "source": [
    "def create_web_search_tool() -> Dict[str, Any]:\n",
    "    return {\n",
    "        \"type\": \"function\",\n",
    "        \"function\": {\n",
    "            \"name\": \"web_search\",\n",
    "            \"description\": \"Search the web for current information. Always cite sources.\",\n",
    "            \"parameters\": {\n",
    "                \"type\": \"object\",\n",
    "                \"properties\": {\n",
    "                    \"query\": {\n",
    "                        \"type\": \"string\",\n",
    "                        \"description\": \"The search query\"\n",
    "                    }\n",
    "                },\n",
    "                \"required\": [\"query\"]\n",
    "            }\n",
    "        }\n",
    "    }\n",
    "\n",
    "class ToolExecutor:\n",
    "    def __init__(self, exa_client: ExaSearchClient):\n",
    "        self.exa_client = exa_client\n",
    "\n",
    "    def execute_tool(self, tool_call: Dict[str, Any]) -> str:\n",
    "        if tool_call[\"type\"] != \"function\":\n",
    "            return \"Unsupported tool type\"\n",
    "        \n",
    "        function_call = tool_call[\"function\"]\n",
    "        if function_call[\"name\"] == \"web_search\":\n",
    "            try:\n",
    "                query = json.loads(function_call[\"arguments\"])[\"query\"]\n",
    "                results = self.exa_client.search(query)\n",
    "\n",
    "                formatted_results = []\n",
    "                for result in results:\n",
    "                    formatted_results.append(\n",
    "                        f\"Source: {result['title']}\\n\"\\\n",
    "                        f\"URL: {result['url']}\\n\"\\\n",
    "                        f\"Content: {result['text']}\\n\"\n",
    "                    )\n",
    "\n",
    "                return \"\\n\\n\".join(formatted_results)\n",
    "            except Exception as e:\n",
    "                return f\"Error executing web search: {str(e)}\"\n",
    "\n",
    "        return \"Unknown tool\"\n"
   ]
  },
  {
   "cell_type": "markdown",
   "id": "dc565756",
   "metadata": {},
   "source": [
    "## 4. WatsonX AI Model (Granite) with Tool Calling"
   ]
  },
  {
   "cell_type": "code",
   "execution_count": 12,
   "id": "ab0aceba",
   "metadata": {},
   "outputs": [],
   "source": [
    "class WatsonXModel:\n",
    "    def __init__(self, exa_api_key: Optional[str] = None):\n",
    "        self.client_wrapper = get_client()\n",
    "\n",
    "        # Initialize Exa client and tool executor\n",
    "        self.exa_client = ExaSearchClient(exa_api_key) if exa_api_key else None\n",
    "        self.tool_executor = ToolExecutor(self.exa_client) if self.exa_client else None\n",
    "\n",
    "        # Initialize the model (using Mistral for tool calling, as example)\n",
    "        self.model = ModelInference(\n",
    "            model_id=\"ibm/granite-3-8b-instruct\",\n",
    "            credentials=self.client_wrapper.credentials,\n",
    "            project_id=self.client_wrapper.project_id\n",
    "        )\n",
    "\n",
    "    def ask(self, question: str) -> str:\n",
    "        if not self.tool_executor:\n",
    "            return \"Exa API key not provided\"\n",
    "\n",
    "        try:\n",
    "            messages = [{\"role\": \"user\", \"content\": question}]\n",
    "            tools = [create_web_search_tool()]\n",
    "\n",
    "            # First attempt to get a response (model can request a tool)\n",
    "            response = self.model.chat(messages=messages, tools=tools)\n",
    "\n",
    "            if \"choices\" in response and response[\"choices\"]:\n",
    "                choice = response[\"choices\"][0]\n",
    "                if \"message\" in choice and \"tool_calls\" in choice[\"message\"]:\n",
    "                    tool_calls = choice[\"message\"][\"tool_calls\"]\n",
    "\n",
    "                    tool_results = []\n",
    "                    for tool_call in tool_calls:\n",
    "                        result = self.tool_executor.execute_tool(tool_call)\n",
    "                        tool_results.append(result)\n",
    "\n",
    "                    # Add these tool results to the conversation\n",
    "                    messages.extend([\n",
    "                        {\n",
    "                            \"role\": \"assistant\",\n",
    "                            \"content\": None,\n",
    "                            \"tool_calls\": tool_calls\n",
    "                        },\n",
    "                        {\n",
    "                            \"role\": \"tool\",\n",
    "                            \"content\": \"\\n\\n\".join(tool_results),\n",
    "                            \"tool_call_id\": tool_calls[0][\"id\"]\n",
    "                        }\n",
    "                    ])\n",
    "\n",
    "                    final_response = self.model.chat(messages=messages)\n",
    "                    if \"choices\" in final_response and final_response[\"choices\"]:\n",
    "                        return final_response[\"choices\"][0][\"message\"][\"content\"].strip()\n",
    "\n",
    "            return \"No response generated\"\n",
    "        except Exception as e:\n",
    "            logger.error(f\"Error: {str(e)}\")\n",
    "            return f\"Error: {str(e)}\""
   ]
  },
  {
   "cell_type": "markdown",
   "id": "c73f8619",
   "metadata": {},
   "source": [
    "## 5. Example Usage"
   ]
  },
  {
   "cell_type": "code",
   "execution_count": 13,
   "id": "87415519",
   "metadata": {},
   "outputs": [],
   "source": [
    "def run_example():\n",
    "    # Make sure you have a .env file or environment variables set:\n",
    "    # IBM_WATSONX_API_KEY, IBM_WATSONX_URL, IBM_WATSONX_PROJECT_ID, EXA_API_KEY\n",
    "    load_dotenv()\n",
    "    exa_api_key = os.getenv('EXA_API_KEY')\n",
    "    if not exa_api_key:\n",
    "        print(\"Error: EXA_API_KEY not found in environment variables\")\n",
    "        return\n",
    "\n",
    "    model = WatsonXModel(exa_api_key=exa_api_key)\n",
    "\n",
    "    # Ask something that might need a web search\n",
    "    question = \"Tell me the recent tech news of 2025?\"\n",
    "    \n",
    "    print(\"\\nQuestion:\", question)\n",
    "    print(\"\\nProcessing...\\n\")\n",
    "\n",
    "    answer = model.ask(question)\n",
    "    print(\"\\nAnswer:\", answer)\n"
   ]
  },
  {
   "cell_type": "markdown",
   "id": "8157fece",
   "metadata": {},
   "source": [
    "## 6. Run the Example"
   ]
  },
  {
   "cell_type": "code",
   "execution_count": 14,
   "id": "caa7f3a7",
   "metadata": {},
   "outputs": [
    {
     "name": "stderr",
     "output_type": "stream",
     "text": [
      "INFO:ibm_watsonx_ai.client:Client successfully initialized\n",
      "INFO:ibm_watsonx_ai.client:Client successfully initialized\n",
      "INFO:ibm_watsonx_ai.wml_resource:Successfully finished Get available foundation models for url: 'https://us-south.ml.cloud.ibm.com/ml/v1/foundation_model_specs?version=2025-01-24&project_id=d7c4caa6-2cf1-4af7-9e69-b1baca2c278f&filters=function_text_generation%2C%21lifecycle_withdrawn%3Aand&limit=200'\n"
     ]
    },
    {
     "name": "stdout",
     "output_type": "stream",
     "text": [
      "\n",
      "Question: Tell me the recent tech news of 2025?\n",
      "\n",
      "Processing...\n",
      "\n"
     ]
    },
    {
     "name": "stderr",
     "output_type": "stream",
     "text": [
      "INFO:httpx:HTTP Request: POST https://us-south.ml.cloud.ibm.com/ml/v1/text/chat?version=2025-01-24 \"HTTP/1.1 200 OK\"\n",
      "INFO:ibm_watsonx_ai.wml_resource:Successfully finished chat for url: 'https://us-south.ml.cloud.ibm.com/ml/v1/text/chat?version=2025-01-24'\n",
      "INFO:__main__:Searching Exa for: recent tech news 2025\n",
      "INFO:__main__:\n",
      "Found 5 results using Exa\n",
      "\n",
      "INFO:httpx:HTTP Request: POST https://us-south.ml.cloud.ibm.com/ml/v1/text/chat?version=2025-01-24 \"HTTP/1.1 200 OK\"\n",
      "INFO:ibm_watsonx_ai.wml_resource:Successfully finished chat for url: 'https://us-south.ml.cloud.ibm.com/ml/v1/text/chat?version=2025-01-24'\n"
     ]
    },
    {
     "name": "stdout",
     "output_type": "stream",
     "text": [
      "\n",
      "Answer: In 2025, several significant developments in technology were predicted and observed:\n",
      "\n",
      "1. AI Integration: Artificial Intelligence is expected to have a substantial impact on workforce dynamics, with the potential introduction of AI agents capable of commerce, collaboration, and creativity without human intervention. (Source: CoinDesk)\n",
      "\n",
      "2. Neuralink: Elon Musk's Neuralink projected more volunteers would get brain implants, but a full product release doesn't seem imminent. The brain-machine interface technology's growth and advancements promise to modify human-computer interaction significantly. (Source: MIT Technology Review)\n",
      "\n",
      "3. Smart Glasses: By 2025, smart glasses are forecasted to become cool and fashionable, merging seamlessly into everyday life. Companies like Meta, Ray-Ban, Snap, and Google are making significant strides in this area. (Source: Technology Review)\n",
      "\n",
      "4. AI in Software Development: Mark Zuckerberg and other tech leaders predicted that AI would replace mid-level engineers by this year, automating tasks such as coding. (Source: Forbes)\n",
      "\n",
      "5. Post-Trump Tariffs: Business-tech experts warned that the previous administration's tariffs could lead to more expensive tech items and budget cuts for companies. (Unsourced, mentioned in the prompt)\n",
      "\n",
      "These developments are expected to shape the tech landscape significantly in 2025.\n"
     ]
    }
   ],
   "source": [
    "run_example()"
   ]
  }
 ],
 "metadata": {
  "kernelspec": {
   "display_name": "venv",
   "language": "python",
   "name": "python3"
  },
  "language_info": {
   "codemirror_mode": {
    "name": "ipython",
    "version": 3
   },
   "file_extension": ".py",
   "mimetype": "text/x-python",
   "name": "python",
   "nbconvert_exporter": "python",
   "pygments_lexer": "ipython3",
   "version": "3.10.11"
  }
 },
 "nbformat": 4,
 "nbformat_minor": 5
}
